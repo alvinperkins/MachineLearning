{
 "cells": [
  {
   "cell_type": "markdown",
   "metadata": {
    "collapsed": true
   },
   "source": [
    "## GMM高斯混合模型示例"
   ]
  },
  {
   "cell_type": "code",
   "execution_count": 2,
   "metadata": {},
   "outputs": [],
   "source": [
    "import numpy as np\n",
    "from sklearn import mixture\n",
    "import matplotlib.pyplot as plt"
   ]
  },
  {
   "cell_type": "code",
   "execution_count": null,
   "metadata": {
    "collapsed": true
   },
   "outputs": [],
   "source": [
    "#生成数据\n",
    "def gendata():\n",
    "    obs = np.concatenate((1.6*np.random.randn(300, 2), 6 + 1.3*np.random.randn(300, 2), np.array([-5, 5]) + 1.3*np.random.randn(200, 2), np.array([2, 7]) + 1.1*np.random.randn(200, 2)))\n",
    "    return obs"
   ]
  },
  {
   "cell_type": "code",
   "execution_count": 9,
   "metadata": {
    "collapsed": true
   },
   "outputs": [],
   "source": [
    "def gaussian_2d(x, y, x0, y0, xsig, ysig):\n",
    "    return 1/(2*np.pi*xsig*ysig) * np.exp(-0.5*(((x-x0) / xsig)**2 + ((y-y0) / ysig)**2))"
   ]
  },
  {
   "cell_type": "code",
   "execution_count": 14,
   "metadata": {
    "collapsed": true
   },
   "outputs": [],
   "source": [
    "# 生成GMM模型并fit到我们给定的数据集上\n",
    "def gengmm(nc=4, n_iter = 2):\n",
    "    g = mixture.GMM(n_components=nc)  # 多少个高斯函数\n",
    "    g.init_params = \"\"  # 初始化\n",
    "    g.n_iter = n_iter   # EM迭代次数\n",
    "    return g"
   ]
  },
  {
   "cell_type": "code",
   "execution_count": 15,
   "metadata": {
    "collapsed": true
   },
   "outputs": [],
   "source": [
    "def plotGMM(g, n, pt):\n",
    "    delta = 0.025\n",
    "    x = np.arange(-10, 10, delta)\n",
    "    y = np.arange(-6, 12, delta)\n",
    "    X, Y = np.meshgrid(x, y)\n",
    " \n",
    "    if pt == 1:\n",
    "        for i in xrange(n):\n",
    "            Z1 = gaussian_2d(X, Y, g.means_[i, 0], g.means_[i, 1], g.covars_[i, 0], g.covars_[i, 1])\n",
    "            plt.contour(X, Y, Z1, linewidths=0.5)\n",
    " \n",
    "    #绘出高斯分布的中心点\n",
    "    plt.plot(g.means_[0][0],g.means_[0][1], '+', markersize=13, mew=3)\n",
    "    plt.plot(g.means_[1][0],g.means_[1][1], '+', markersize=13, mew=3)\n",
    "    plt.plot(g.means_[2][0],g.means_[2][1], '+', markersize=13, mew=3)\n",
    "    plt.plot(g.means_[3][0],g.means_[3][1], '+', markersize=13, mew=3)"
   ]
  },
  {
   "cell_type": "code",
   "execution_count": 16,
   "metadata": {
    "collapsed": true
   },
   "outputs": [],
   "source": [
    "obs = gendata()\n",
    "fig = plt.figure(1)\n",
    "g = gengmm(4, 100)\n",
    "g.fit(obs)\n",
    "plt.plot(obs[:, 0], obs[:, 1], '.', markersize=3)\n",
    "plotGMM(g, 4, 0)\n",
    "plt.title('Gaussian Mixture Model')\n",
    "plt.show()"
   ]
  },
  {
   "cell_type": "markdown",
   "metadata": {},
   "source": [
    "<img src='GMM.png'>"
   ]
  },
  {
   "cell_type": "code",
   "execution_count": 17,
   "metadata": {
    "collapsed": true
   },
   "outputs": [],
   "source": [
    "g = gengmm(4, 1)\n",
    "g.fit(obs)\n",
    "plt.plot(obs[:, 0], obs[:, 1], '.', markersize=3)\n",
    "plotGMM(g, 4, 1)\n",
    "plt.title('Gaussian Models (Iter = 1)')\n",
    "plt.show()\n",
    " \n",
    "g = gengmm(4, 5)\n",
    "g.fit(obs)\n",
    "plt.plot(obs[:, 0], obs[:, 1], '.', markersize=3)\n",
    "plotGMM(g, 4, 1)\n",
    "plt.title('Gaussian Models (Iter = 5)')\n",
    "plt.show()\n",
    " \n",
    "g = gengmm(4, 20)\n",
    "g.fit(obs)\n",
    "plt.plot(obs[:, 0], obs[:, 1], '.', markersize=3)\n",
    "plotGMM(g, 4, 1)\n",
    "plt.title('Gaussian Models (Iter = 20)')\n",
    "plt.show()\n",
    " \n",
    "g = gengmm(4, 100)\n",
    "g.fit(obs)\n",
    "plt.plot(obs[:, 0], obs[:, 1], '.', markersize=3)\n",
    "plotGMM(g, 4, 1)\n",
    "plt.title('Gaussian Models (Iter = 100)')\n",
    "plt.show()"
   ]
  },
  {
   "cell_type": "markdown",
   "metadata": {},
   "source": [
    "![iter1](http://2.bp.blogspot.com/-di2iGvjV5hk/VGt45lYoy3I/AAAAAAAAA1M/q0K3arW_j38/s1600/iter_1.png)"
   ]
  },
  {
   "cell_type": "markdown",
   "metadata": {},
   "source": [
    "![iter2](http://4.bp.blogspot.com/-5Gr6YWHlcpQ/VGt46YCR1oI/AAAAAAAAA1Y/x2lfEKEBBMI/s1600/iter_5.png)"
   ]
  },
  {
   "cell_type": "markdown",
   "metadata": {},
   "source": [
    "![iter20](http://3.bp.blogspot.com/-HD3sjla6GuI/VGt451OzzoI/AAAAAAAAA1Q/JEmENkHlS5U/s1600/iter_20.png)"
   ]
  },
  {
   "cell_type": "markdown",
   "metadata": {},
   "source": [
    "![iter200](http://3.bp.blogspot.com/-v4yqPX-ESew/VGt45hsEStI/AAAAAAAAA1U/wy9eCtLLVos/s1600/iter_100.png)"
   ]
  },
  {
   "cell_type": "markdown",
   "metadata": {},
   "source": [
    "![GMM](http://4.bp.blogspot.com/-zuCQBrN8990/VGt45PZHXhI/AAAAAAAAA1E/jtQQaAj-PMc/s1600/gmm2.png)"
   ]
  },
  {
   "cell_type": "code",
   "execution_count": null,
   "metadata": {
    "collapsed": true
   },
   "outputs": [],
   "source": []
  }
 ],
 "metadata": {
  "kernelspec": {
   "display_name": "Python 2",
   "language": "python",
   "name": "python2"
  },
  "language_info": {
   "codemirror_mode": {
    "name": "ipython",
    "version": 2
   },
   "file_extension": ".py",
   "mimetype": "text/x-python",
   "name": "python",
   "nbconvert_exporter": "python",
   "pygments_lexer": "ipython2",
   "version": "2.7.12"
  }
 },
 "nbformat": 4,
 "nbformat_minor": 1
}
